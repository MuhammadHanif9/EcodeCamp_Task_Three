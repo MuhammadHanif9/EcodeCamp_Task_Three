{
 "cells": [
  {
   "cell_type": "code",
   "execution_count": 10,
   "metadata": {},
   "outputs": [],
   "source": [
    "import pandas as pd\n",
    "import joblib\n",
    "from sklearn.preprocessing import StandardScaler\n",
    "from sklearn.model_selection import train_test_split\n",
    "from sklearn.feature_selection import RFE\n",
    "from sklearn.linear_model import LogisticRegression\n",
    "from sklearn.tree import DecisionTreeClassifier\n",
    "from sklearn.svm import SVC\n",
    "from sklearn.metrics import accuracy_score"
   ]
  },
  {
   "cell_type": "code",
   "execution_count": 11,
   "metadata": {},
   "outputs": [],
   "source": [
    "data = pd.read_csv('data.csv')"
   ]
  },
  {
   "cell_type": "code",
   "execution_count": 12,
   "metadata": {},
   "outputs": [],
   "source": [
    "features = ['radius_mean', 'texture_mean', 'perimeter_mean', 'area_mean', 'smoothness_mean',\n",
    "            'compactness_mean', 'concavity_mean', 'concave points_mean', 'symmetry_mean', 'fractal_dimension_mean',\n",
    "            'radius_worst', 'texture_worst', 'perimeter_worst', 'area_worst', 'smoothness_worst',\n",
    "            'compactness_worst', 'concavity_worst', 'concave points_worst', 'symmetry_worst', 'fractal_dimension_worst']\n",
    "\n",
    "target = 'diagnosis'"
   ]
  },
  {
   "cell_type": "code",
   "execution_count": 13,
   "metadata": {},
   "outputs": [],
   "source": [
    "X = data[features]\n",
    "y = data[target].apply(lambda x: 1 if x == 'M' else 0)"
   ]
  },
  {
   "cell_type": "code",
   "execution_count": 14,
   "metadata": {},
   "outputs": [],
   "source": [
    "X_train, X_test, y_train, y_test = train_test_split(X, y, test_size=0.2, random_state=2)\n",
    "\n",
    "# Selected features for the models\n",
    "selected_features = ['compactness_mean', 'concavity_mean', 'concave points_mean', \n",
    "                     'radius_worst', 'texture_worst', 'perimeter_worst', \n",
    "                     'area_worst', 'smoothness_worst', 'concave points_worst', 'symmetry_worst']\n"
   ]
  },
  {
   "cell_type": "code",
   "execution_count": 15,
   "metadata": {},
   "outputs": [],
   "source": [
    "X_train_selected = X_train[selected_features]\n",
    "X_test_selected = X_test[selected_features]\n",
    "\n",
    "# Initialize and fit the StandardScaler\n",
    "scaler = StandardScaler()\n",
    "X_train_scaled = scaler.fit_transform(X_train_selected)\n",
    "X_test_scaled = scaler.transform(X_test_selected)"
   ]
  },
  {
   "cell_type": "code",
   "execution_count": 16,
   "metadata": {},
   "outputs": [
    {
     "data": {
      "text/plain": [
       "['rfe_scaler.pkl']"
      ]
     },
     "execution_count": 16,
     "metadata": {},
     "output_type": "execute_result"
    }
   ],
   "source": [
    "joblib.dump(scaler, 'rfe_scaler.pkl')"
   ]
  },
  {
   "cell_type": "code",
   "execution_count": 17,
   "metadata": {},
   "outputs": [],
   "source": [
    "log_reg = LogisticRegression(max_iter=1000, random_state=2)\n",
    "dt_model = DecisionTreeClassifier(random_state=2)\n",
    "svm_model = SVC(kernel='linear', random_state=2)"
   ]
  },
  {
   "cell_type": "markdown",
   "metadata": {},
   "source": [
    "FEATURE SELECTION FOR LOGISTIC REGRESSION"
   ]
  },
  {
   "cell_type": "code",
   "execution_count": 18,
   "metadata": {},
   "outputs": [],
   "source": [
    "rfe_log_reg = RFE(log_reg, n_features_to_select=10)\n",
    "rfe_log_reg.fit(X_train_scaled, y_train)\n",
    "X_train_log_reg_selected = rfe_log_reg.transform(X_train_scaled)\n",
    "X_test_log_reg_selected = rfe_log_reg.transform(X_test_scaled)\n",
    "log_reg.fit(X_train_log_reg_selected, y_train)\n",
    "log_reg_accuracy = accuracy_score(y_test, log_reg.predict(X_test_log_reg_selected))"
   ]
  },
  {
   "cell_type": "markdown",
   "metadata": {},
   "source": [
    "FEATURE SELECTION FOR DECISION TREE"
   ]
  },
  {
   "cell_type": "code",
   "execution_count": 19,
   "metadata": {},
   "outputs": [],
   "source": [
    "rfe_dt = RFE(dt_model, n_features_to_select=10)\n",
    "rfe_dt.fit(X_train_scaled, y_train)\n",
    "X_train_dt_selected = rfe_dt.transform(X_train_scaled)\n",
    "X_test_dt_selected = rfe_dt.transform(X_test_scaled)\n",
    "dt_model.fit(X_train_dt_selected, y_train)\n",
    "dt_accuracy = accuracy_score(y_test, dt_model.predict(X_test_dt_selected))"
   ]
  },
  {
   "cell_type": "markdown",
   "metadata": {},
   "source": [
    "FEATURE SELECTION FOR SVM"
   ]
  },
  {
   "cell_type": "code",
   "execution_count": 20,
   "metadata": {},
   "outputs": [],
   "source": [
    "rfe_svm = RFE(svm_model, n_features_to_select=10)\n",
    "rfe_svm.fit(X_train_scaled, y_train)\n",
    "X_train_svm_selected = rfe_svm.transform(X_train_scaled)\n",
    "X_test_svm_selected = rfe_svm.transform(X_test_scaled)\n",
    "svm_model.fit(X_train_svm_selected, y_train)\n",
    "svm_accuracy = accuracy_score(y_test, svm_model.predict(X_test_svm_selected))"
   ]
  },
  {
   "cell_type": "code",
   "execution_count": 21,
   "metadata": {},
   "outputs": [
    {
     "name": "stdout",
     "output_type": "stream",
     "text": [
      "Logistic Regression Accuracy: 0.9737\n",
      "Decision Tree Accuracy: 0.9123\n",
      "SVM Accuracy: 0.9737\n"
     ]
    }
   ],
   "source": [
    "print(f'Logistic Regression Accuracy: {log_reg_accuracy:.4f}')\n",
    "print(f'Decision Tree Accuracy: {dt_accuracy:.4f}')\n",
    "print(f'SVM Accuracy: {svm_accuracy:.4f}')"
   ]
  },
  {
   "cell_type": "code",
   "execution_count": 24,
   "metadata": {},
   "outputs": [
    {
     "name": "stdout",
     "output_type": "stream",
     "text": [
      "Selected Features for Logistic Regression: ['compactness_mean', 'concavity_mean', 'concave points_mean', 'radius_worst', 'texture_worst', 'perimeter_worst', 'area_worst', 'smoothness_worst', 'concave points_worst', 'symmetry_worst']\n",
      "Selected Features for Decision Tree: ['compactness_mean', 'concavity_mean', 'concave points_mean', 'radius_worst', 'texture_worst', 'perimeter_worst', 'area_worst', 'smoothness_worst', 'concave points_worst', 'symmetry_worst']\n",
      "Selected Features for SVM: ['compactness_mean', 'concavity_mean', 'concave points_mean', 'radius_worst', 'texture_worst', 'perimeter_worst', 'area_worst', 'smoothness_worst', 'concave points_worst', 'symmetry_worst']\n"
     ]
    }
   ],
   "source": [
    "import numpy as np\n",
    "selected_indices_log_reg = np.where(rfe_log_reg.support_)[0]  # Get the indices of the selected features\n",
    "selected_features_log_reg = [selected_features[i] for i in selected_indices_log_reg]\n",
    "print(f'Selected Features for Logistic Regression: {selected_features_log_reg}')\n",
    "\n",
    "# Decision Tree\n",
    "selected_indices_dt = np.where(rfe_dt.support_)[0]\n",
    "selected_features_dt = [selected_features[i] for i in selected_indices_dt]\n",
    "print(f'Selected Features for Decision Tree: {selected_features_dt}')\n",
    "\n",
    "# SVM\n",
    "selected_indices_svm = np.where(rfe_svm.support_)[0]\n",
    "selected_features_svm = [selected_features[i] for i in selected_indices_svm]\n",
    "print(f'Selected Features for SVM: {selected_features_svm}')"
   ]
  },
  {
   "cell_type": "code",
   "execution_count": 25,
   "metadata": {},
   "outputs": [
    {
     "data": {
      "text/plain": [
       "['svm_model.pkl']"
      ]
     },
     "execution_count": 25,
     "metadata": {},
     "output_type": "execute_result"
    }
   ],
   "source": [
    "import joblib\n",
    "\n",
    "# Save the trained Logistic Regression model\n",
    "joblib.dump(svm_model, 'svm_model.pkl')"
   ]
  },
  {
   "cell_type": "code",
   "execution_count": 27,
   "metadata": {},
   "outputs": [
    {
     "name": "stdout",
     "output_type": "stream",
     "text": [
      "(455, 10)\n"
     ]
    }
   ],
   "source": [
    "print(X_train_scaled.shape)  # Should print (num_samples, num_features)\n"
   ]
  },
  {
   "cell_type": "code",
   "execution_count": null,
   "metadata": {},
   "outputs": [],
   "source": []
  }
 ],
 "metadata": {
  "kernelspec": {
   "display_name": "Python 3",
   "language": "python",
   "name": "python3"
  },
  "language_info": {
   "codemirror_mode": {
    "name": "ipython",
    "version": 3
   },
   "file_extension": ".py",
   "mimetype": "text/x-python",
   "name": "python",
   "nbconvert_exporter": "python",
   "pygments_lexer": "ipython3",
   "version": "3.12.5"
  }
 },
 "nbformat": 4,
 "nbformat_minor": 2
}
